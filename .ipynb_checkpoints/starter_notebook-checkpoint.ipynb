{
 "cells": [
  {
   "cell_type": "markdown",
   "metadata": {},
   "source": [
    "### University of San Diego \n",
    "\n",
    "### Master of Science, Applied Data Science \n",
    "\n",
    "#### Contributors\n",
    "\n",
    "- Hoori Javadnia\n",
    "- Salvador Sanchez\n",
    "- Jacqueline Vo"
   ]
  },
  {
   "cell_type": "markdown",
   "metadata": {},
   "source": [
    "***"
   ]
  },
  {
   "cell_type": "markdown",
   "metadata": {},
   "source": [
    "## Data Overview\n",
    "\n",
    "### Dataset has 537577 rows (transactions) and 12 columns (features) as described below:\n",
    "\n",
    "- User_ID: Unique ID of the user. \n",
    "- Product_ID: Unique ID of the product. \n",
    "- Gender: indicates the gender of the person making the transaction.\n",
    "- Age: indicates the age group of the person making the transaction.\n",
    "- Occupation: shows the occupation of the user, already labeled with numbers 0 to 20.\n",
    "- City_Category: User's living city category. Cities are categorized into 3 different categories 'A', 'B' and 'C'.\n",
    "- Stay_In_Current_City_Years: Indicates how long the users has lived in this city.\n",
    "- Marital_Status: is 0 if the user is not married and 1 otherwise.\n",
    "- Product_Category_1 to _3: Category of the product. All 3 are already labaled with numbers.\n",
    "- Purchase: Purchase amount."
   ]
  },
  {
   "cell_type": "markdown",
   "metadata": {},
   "source": [
    "***"
   ]
  },
  {
   "cell_type": "markdown",
   "metadata": {},
   "source": [
    "# Initial imports"
   ]
  },
  {
   "cell_type": "code",
   "execution_count": 1,
   "metadata": {
    "pycharm": {
     "name": "#%%\n"
    }
   },
   "outputs": [],
   "source": [
    "#Import packages\n",
    "import pandas as pd\n",
    "\n",
    "import warnings\n",
    "warnings.filterwarnings(\"ignore\")\n",
    "\n",
    "%matplotlib inline"
   ]
  },
  {
   "cell_type": "markdown",
   "metadata": {
    "pycharm": {
     "name": "#%% md\n"
    }
   },
   "source": [
    "# Exploratory Data Analysis (EDA)\n",
    "Rubric: Discussion is very thorough. All aspects of the data exploration and EDA that are relevant to the main project objectives are carefully addressed.\n",
    "Figures and tables are highly insightful, and are carefully tailored to the project tasks and report."
   ]
  },
  {
   "cell_type": "code",
   "execution_count": 4,
   "metadata": {},
   "outputs": [],
   "source": [
    "#Import csv into train/test datasets\n",
    "train_df = pd.read_csv('train.csv')\n",
    "test_df = pd.read_csv('test.csv')"
   ]
  },
  {
   "cell_type": "code",
   "execution_count": 3,
   "metadata": {
    "pycharm": {
     "name": "#%%\n"
    }
   },
   "outputs": [
    {
     "data": {
      "text/html": [
       "<div>\n",
       "<style scoped>\n",
       "    .dataframe tbody tr th:only-of-type {\n",
       "        vertical-align: middle;\n",
       "    }\n",
       "\n",
       "    .dataframe tbody tr th {\n",
       "        vertical-align: top;\n",
       "    }\n",
       "\n",
       "    .dataframe thead th {\n",
       "        text-align: right;\n",
       "    }\n",
       "</style>\n",
       "<table border=\"1\" class=\"dataframe\">\n",
       "  <thead>\n",
       "    <tr style=\"text-align: right;\">\n",
       "      <th></th>\n",
       "      <th>User_ID</th>\n",
       "      <th>Product_ID</th>\n",
       "      <th>Gender</th>\n",
       "      <th>Age</th>\n",
       "      <th>Occupation</th>\n",
       "      <th>City_Category</th>\n",
       "      <th>Stay_In_Current_City_Years</th>\n",
       "      <th>Marital_Status</th>\n",
       "      <th>Product_Category_1</th>\n",
       "      <th>Product_Category_2</th>\n",
       "      <th>Product_Category_3</th>\n",
       "      <th>Purchase</th>\n",
       "    </tr>\n",
       "  </thead>\n",
       "  <tbody>\n",
       "    <tr>\n",
       "      <th>0</th>\n",
       "      <td>1000001</td>\n",
       "      <td>P00069042</td>\n",
       "      <td>F</td>\n",
       "      <td>0-17</td>\n",
       "      <td>10</td>\n",
       "      <td>A</td>\n",
       "      <td>2</td>\n",
       "      <td>0</td>\n",
       "      <td>3</td>\n",
       "      <td>NaN</td>\n",
       "      <td>NaN</td>\n",
       "      <td>8370</td>\n",
       "    </tr>\n",
       "    <tr>\n",
       "      <th>1</th>\n",
       "      <td>1000001</td>\n",
       "      <td>P00248942</td>\n",
       "      <td>F</td>\n",
       "      <td>0-17</td>\n",
       "      <td>10</td>\n",
       "      <td>A</td>\n",
       "      <td>2</td>\n",
       "      <td>0</td>\n",
       "      <td>1</td>\n",
       "      <td>6.0</td>\n",
       "      <td>14.0</td>\n",
       "      <td>15200</td>\n",
       "    </tr>\n",
       "    <tr>\n",
       "      <th>2</th>\n",
       "      <td>1000001</td>\n",
       "      <td>P00087842</td>\n",
       "      <td>F</td>\n",
       "      <td>0-17</td>\n",
       "      <td>10</td>\n",
       "      <td>A</td>\n",
       "      <td>2</td>\n",
       "      <td>0</td>\n",
       "      <td>12</td>\n",
       "      <td>NaN</td>\n",
       "      <td>NaN</td>\n",
       "      <td>1422</td>\n",
       "    </tr>\n",
       "    <tr>\n",
       "      <th>3</th>\n",
       "      <td>1000001</td>\n",
       "      <td>P00085442</td>\n",
       "      <td>F</td>\n",
       "      <td>0-17</td>\n",
       "      <td>10</td>\n",
       "      <td>A</td>\n",
       "      <td>2</td>\n",
       "      <td>0</td>\n",
       "      <td>12</td>\n",
       "      <td>14.0</td>\n",
       "      <td>NaN</td>\n",
       "      <td>1057</td>\n",
       "    </tr>\n",
       "    <tr>\n",
       "      <th>4</th>\n",
       "      <td>1000002</td>\n",
       "      <td>P00285442</td>\n",
       "      <td>M</td>\n",
       "      <td>55+</td>\n",
       "      <td>16</td>\n",
       "      <td>C</td>\n",
       "      <td>4+</td>\n",
       "      <td>0</td>\n",
       "      <td>8</td>\n",
       "      <td>NaN</td>\n",
       "      <td>NaN</td>\n",
       "      <td>7969</td>\n",
       "    </tr>\n",
       "  </tbody>\n",
       "</table>\n",
       "</div>"
      ],
      "text/plain": [
       "   User_ID Product_ID Gender   Age  Occupation City_Category  \\\n",
       "0  1000001  P00069042      F  0-17          10             A   \n",
       "1  1000001  P00248942      F  0-17          10             A   \n",
       "2  1000001  P00087842      F  0-17          10             A   \n",
       "3  1000001  P00085442      F  0-17          10             A   \n",
       "4  1000002  P00285442      M   55+          16             C   \n",
       "\n",
       "  Stay_In_Current_City_Years  Marital_Status  Product_Category_1  \\\n",
       "0                          2               0                   3   \n",
       "1                          2               0                   1   \n",
       "2                          2               0                  12   \n",
       "3                          2               0                  12   \n",
       "4                         4+               0                   8   \n",
       "\n",
       "   Product_Category_2  Product_Category_3  Purchase  \n",
       "0                 NaN                 NaN      8370  \n",
       "1                 6.0                14.0     15200  \n",
       "2                 NaN                 NaN      1422  \n",
       "3                14.0                 NaN      1057  \n",
       "4                 NaN                 NaN      7969  "
      ]
     },
     "metadata": {},
     "output_type": "display_data"
    },
    {
     "data": {
      "text/plain": [
       "(550068, 12)"
      ]
     },
     "execution_count": 3,
     "metadata": {},
     "output_type": "execute_result"
    }
   ],
   "source": [
    "#Training dataset\n",
    "display(train_df.head())\n",
    "train_df.shape"
   ]
  },
  {
   "cell_type": "code",
   "execution_count": 6,
   "metadata": {
    "pycharm": {
     "name": "#%%\n"
    }
   },
   "outputs": [
    {
     "data": {
      "text/html": [
       "<div>\n",
       "<style scoped>\n",
       "    .dataframe tbody tr th:only-of-type {\n",
       "        vertical-align: middle;\n",
       "    }\n",
       "\n",
       "    .dataframe tbody tr th {\n",
       "        vertical-align: top;\n",
       "    }\n",
       "\n",
       "    .dataframe thead th {\n",
       "        text-align: right;\n",
       "    }\n",
       "</style>\n",
       "<table border=\"1\" class=\"dataframe\">\n",
       "  <thead>\n",
       "    <tr style=\"text-align: right;\">\n",
       "      <th></th>\n",
       "      <th>User_ID</th>\n",
       "      <th>Product_ID</th>\n",
       "      <th>Gender</th>\n",
       "      <th>Age</th>\n",
       "      <th>Occupation</th>\n",
       "      <th>City_Category</th>\n",
       "      <th>Stay_In_Current_City_Years</th>\n",
       "      <th>Marital_Status</th>\n",
       "      <th>Product_Category_1</th>\n",
       "      <th>Product_Category_2</th>\n",
       "      <th>Product_Category_3</th>\n",
       "    </tr>\n",
       "  </thead>\n",
       "  <tbody>\n",
       "    <tr>\n",
       "      <th>0</th>\n",
       "      <td>1000004</td>\n",
       "      <td>P00128942</td>\n",
       "      <td>M</td>\n",
       "      <td>46-50</td>\n",
       "      <td>7</td>\n",
       "      <td>B</td>\n",
       "      <td>2</td>\n",
       "      <td>1</td>\n",
       "      <td>1</td>\n",
       "      <td>11.0</td>\n",
       "      <td>NaN</td>\n",
       "    </tr>\n",
       "    <tr>\n",
       "      <th>1</th>\n",
       "      <td>1000009</td>\n",
       "      <td>P00113442</td>\n",
       "      <td>M</td>\n",
       "      <td>26-35</td>\n",
       "      <td>17</td>\n",
       "      <td>C</td>\n",
       "      <td>0</td>\n",
       "      <td>0</td>\n",
       "      <td>3</td>\n",
       "      <td>5.0</td>\n",
       "      <td>NaN</td>\n",
       "    </tr>\n",
       "    <tr>\n",
       "      <th>2</th>\n",
       "      <td>1000010</td>\n",
       "      <td>P00288442</td>\n",
       "      <td>F</td>\n",
       "      <td>36-45</td>\n",
       "      <td>1</td>\n",
       "      <td>B</td>\n",
       "      <td>4+</td>\n",
       "      <td>1</td>\n",
       "      <td>5</td>\n",
       "      <td>14.0</td>\n",
       "      <td>NaN</td>\n",
       "    </tr>\n",
       "    <tr>\n",
       "      <th>3</th>\n",
       "      <td>1000010</td>\n",
       "      <td>P00145342</td>\n",
       "      <td>F</td>\n",
       "      <td>36-45</td>\n",
       "      <td>1</td>\n",
       "      <td>B</td>\n",
       "      <td>4+</td>\n",
       "      <td>1</td>\n",
       "      <td>4</td>\n",
       "      <td>9.0</td>\n",
       "      <td>NaN</td>\n",
       "    </tr>\n",
       "    <tr>\n",
       "      <th>4</th>\n",
       "      <td>1000011</td>\n",
       "      <td>P00053842</td>\n",
       "      <td>F</td>\n",
       "      <td>26-35</td>\n",
       "      <td>1</td>\n",
       "      <td>C</td>\n",
       "      <td>1</td>\n",
       "      <td>0</td>\n",
       "      <td>4</td>\n",
       "      <td>5.0</td>\n",
       "      <td>12.0</td>\n",
       "    </tr>\n",
       "  </tbody>\n",
       "</table>\n",
       "</div>"
      ],
      "text/plain": [
       "   User_ID Product_ID Gender    Age  Occupation City_Category  \\\n",
       "0  1000004  P00128942      M  46-50           7             B   \n",
       "1  1000009  P00113442      M  26-35          17             C   \n",
       "2  1000010  P00288442      F  36-45           1             B   \n",
       "3  1000010  P00145342      F  36-45           1             B   \n",
       "4  1000011  P00053842      F  26-35           1             C   \n",
       "\n",
       "  Stay_In_Current_City_Years  Marital_Status  Product_Category_1  \\\n",
       "0                          2               1                   1   \n",
       "1                          0               0                   3   \n",
       "2                         4+               1                   5   \n",
       "3                         4+               1                   4   \n",
       "4                          1               0                   4   \n",
       "\n",
       "   Product_Category_2  Product_Category_3  \n",
       "0                11.0                 NaN  \n",
       "1                 5.0                 NaN  \n",
       "2                14.0                 NaN  \n",
       "3                 9.0                 NaN  \n",
       "4                 5.0                12.0  "
      ]
     },
     "metadata": {},
     "output_type": "display_data"
    },
    {
     "data": {
      "text/plain": [
       "(233599, 11)"
      ]
     },
     "execution_count": 6,
     "metadata": {},
     "output_type": "execute_result"
    }
   ],
   "source": [
    "#Test dataset\n",
    "display(test_df.head())\n",
    "test_df.shape"
   ]
  },
  {
   "cell_type": "code",
   "execution_count": 7,
   "metadata": {},
   "outputs": [
    {
     "data": {
      "text/html": [
       "<style type=\"text/css\">\n",
       "</style>\n",
       "<table id=\"T_d7554\">\n",
       "  <thead>\n",
       "    <tr>\n",
       "      <th class=\"blank level0\" >&nbsp;</th>\n",
       "      <th id=\"T_d7554_level0_col0\" class=\"col_heading level0 col0\" >Count</th>\n",
       "      <th id=\"T_d7554_level0_col1\" class=\"col_heading level0 col1\" >% Miss.</th>\n",
       "      <th id=\"T_d7554_level0_col2\" class=\"col_heading level0 col2\" >Card.</th>\n",
       "      <th id=\"T_d7554_level0_col3\" class=\"col_heading level0 col3\" >Mode</th>\n",
       "      <th id=\"T_d7554_level0_col4\" class=\"col_heading level0 col4\" >Mode Freq.</th>\n",
       "      <th id=\"T_d7554_level0_col5\" class=\"col_heading level0 col5\" >Mode %</th>\n",
       "      <th id=\"T_d7554_level0_col6\" class=\"col_heading level0 col6\" >2nd Mode</th>\n",
       "      <th id=\"T_d7554_level0_col7\" class=\"col_heading level0 col7\" >2nd Mode Freq.</th>\n",
       "      <th id=\"T_d7554_level0_col8\" class=\"col_heading level0 col8\" >2nd Mode %</th>\n",
       "    </tr>\n",
       "  </thead>\n",
       "  <tbody>\n",
       "    <tr>\n",
       "      <th id=\"T_d7554_level0_row0\" class=\"row_heading level0 row0\" >User_ID</th>\n",
       "      <td id=\"T_d7554_row0_col0\" class=\"data row0 col0\" >550,068</td>\n",
       "      <td id=\"T_d7554_row0_col1\" class=\"data row0 col1\" >0.0%</td>\n",
       "      <td id=\"T_d7554_row0_col2\" class=\"data row0 col2\" >5,891</td>\n",
       "      <td id=\"T_d7554_row0_col3\" class=\"data row0 col3\" >1001680</td>\n",
       "      <td id=\"T_d7554_row0_col4\" class=\"data row0 col4\" >1,026</td>\n",
       "      <td id=\"T_d7554_row0_col5\" class=\"data row0 col5\" >0%</td>\n",
       "      <td id=\"T_d7554_row0_col6\" class=\"data row0 col6\" >1004277</td>\n",
       "      <td id=\"T_d7554_row0_col7\" class=\"data row0 col7\" >979</td>\n",
       "      <td id=\"T_d7554_row0_col8\" class=\"data row0 col8\" >0%</td>\n",
       "    </tr>\n",
       "    <tr>\n",
       "      <th id=\"T_d7554_level0_row1\" class=\"row_heading level0 row1\" >Product_ID</th>\n",
       "      <td id=\"T_d7554_row1_col0\" class=\"data row1 col0\" >550,068</td>\n",
       "      <td id=\"T_d7554_row1_col1\" class=\"data row1 col1\" >0.0%</td>\n",
       "      <td id=\"T_d7554_row1_col2\" class=\"data row1 col2\" >3,631</td>\n",
       "      <td id=\"T_d7554_row1_col3\" class=\"data row1 col3\" >P00265242</td>\n",
       "      <td id=\"T_d7554_row1_col4\" class=\"data row1 col4\" >1,880</td>\n",
       "      <td id=\"T_d7554_row1_col5\" class=\"data row1 col5\" >0%</td>\n",
       "      <td id=\"T_d7554_row1_col6\" class=\"data row1 col6\" >P00025442</td>\n",
       "      <td id=\"T_d7554_row1_col7\" class=\"data row1 col7\" >1,615</td>\n",
       "      <td id=\"T_d7554_row1_col8\" class=\"data row1 col8\" >0%</td>\n",
       "    </tr>\n",
       "    <tr>\n",
       "      <th id=\"T_d7554_level0_row2\" class=\"row_heading level0 row2\" >Gender</th>\n",
       "      <td id=\"T_d7554_row2_col0\" class=\"data row2 col0\" >550,068</td>\n",
       "      <td id=\"T_d7554_row2_col1\" class=\"data row2 col1\" >0.0%</td>\n",
       "      <td id=\"T_d7554_row2_col2\" class=\"data row2 col2\" >2</td>\n",
       "      <td id=\"T_d7554_row2_col3\" class=\"data row2 col3\" >M</td>\n",
       "      <td id=\"T_d7554_row2_col4\" class=\"data row2 col4\" >414,259</td>\n",
       "      <td id=\"T_d7554_row2_col5\" class=\"data row2 col5\" >75%</td>\n",
       "      <td id=\"T_d7554_row2_col6\" class=\"data row2 col6\" >F</td>\n",
       "      <td id=\"T_d7554_row2_col7\" class=\"data row2 col7\" >135,809</td>\n",
       "      <td id=\"T_d7554_row2_col8\" class=\"data row2 col8\" >25%</td>\n",
       "    </tr>\n",
       "    <tr>\n",
       "      <th id=\"T_d7554_level0_row3\" class=\"row_heading level0 row3\" >Age</th>\n",
       "      <td id=\"T_d7554_row3_col0\" class=\"data row3 col0\" >550,068</td>\n",
       "      <td id=\"T_d7554_row3_col1\" class=\"data row3 col1\" >0.0%</td>\n",
       "      <td id=\"T_d7554_row3_col2\" class=\"data row3 col2\" >7</td>\n",
       "      <td id=\"T_d7554_row3_col3\" class=\"data row3 col3\" >26-35</td>\n",
       "      <td id=\"T_d7554_row3_col4\" class=\"data row3 col4\" >219,587</td>\n",
       "      <td id=\"T_d7554_row3_col5\" class=\"data row3 col5\" >40%</td>\n",
       "      <td id=\"T_d7554_row3_col6\" class=\"data row3 col6\" >36-45</td>\n",
       "      <td id=\"T_d7554_row3_col7\" class=\"data row3 col7\" >110,013</td>\n",
       "      <td id=\"T_d7554_row3_col8\" class=\"data row3 col8\" >20%</td>\n",
       "    </tr>\n",
       "    <tr>\n",
       "      <th id=\"T_d7554_level0_row4\" class=\"row_heading level0 row4\" >Occupation</th>\n",
       "      <td id=\"T_d7554_row4_col0\" class=\"data row4 col0\" >550,068</td>\n",
       "      <td id=\"T_d7554_row4_col1\" class=\"data row4 col1\" >0.0%</td>\n",
       "      <td id=\"T_d7554_row4_col2\" class=\"data row4 col2\" >21</td>\n",
       "      <td id=\"T_d7554_row4_col3\" class=\"data row4 col3\" >4</td>\n",
       "      <td id=\"T_d7554_row4_col4\" class=\"data row4 col4\" >72,308</td>\n",
       "      <td id=\"T_d7554_row4_col5\" class=\"data row4 col5\" >13%</td>\n",
       "      <td id=\"T_d7554_row4_col6\" class=\"data row4 col6\" >0</td>\n",
       "      <td id=\"T_d7554_row4_col7\" class=\"data row4 col7\" >69,638</td>\n",
       "      <td id=\"T_d7554_row4_col8\" class=\"data row4 col8\" >13%</td>\n",
       "    </tr>\n",
       "    <tr>\n",
       "      <th id=\"T_d7554_level0_row5\" class=\"row_heading level0 row5\" >City_Category</th>\n",
       "      <td id=\"T_d7554_row5_col0\" class=\"data row5 col0\" >550,068</td>\n",
       "      <td id=\"T_d7554_row5_col1\" class=\"data row5 col1\" >0.0%</td>\n",
       "      <td id=\"T_d7554_row5_col2\" class=\"data row5 col2\" >3</td>\n",
       "      <td id=\"T_d7554_row5_col3\" class=\"data row5 col3\" >B</td>\n",
       "      <td id=\"T_d7554_row5_col4\" class=\"data row5 col4\" >231,173</td>\n",
       "      <td id=\"T_d7554_row5_col5\" class=\"data row5 col5\" >42%</td>\n",
       "      <td id=\"T_d7554_row5_col6\" class=\"data row5 col6\" >C</td>\n",
       "      <td id=\"T_d7554_row5_col7\" class=\"data row5 col7\" >171,175</td>\n",
       "      <td id=\"T_d7554_row5_col8\" class=\"data row5 col8\" >31%</td>\n",
       "    </tr>\n",
       "    <tr>\n",
       "      <th id=\"T_d7554_level0_row6\" class=\"row_heading level0 row6\" >Stay_In_Current_City_Years</th>\n",
       "      <td id=\"T_d7554_row6_col0\" class=\"data row6 col0\" >550,068</td>\n",
       "      <td id=\"T_d7554_row6_col1\" class=\"data row6 col1\" >0.0%</td>\n",
       "      <td id=\"T_d7554_row6_col2\" class=\"data row6 col2\" >5</td>\n",
       "      <td id=\"T_d7554_row6_col3\" class=\"data row6 col3\" >1</td>\n",
       "      <td id=\"T_d7554_row6_col4\" class=\"data row6 col4\" >193,821</td>\n",
       "      <td id=\"T_d7554_row6_col5\" class=\"data row6 col5\" >35%</td>\n",
       "      <td id=\"T_d7554_row6_col6\" class=\"data row6 col6\" >2</td>\n",
       "      <td id=\"T_d7554_row6_col7\" class=\"data row6 col7\" >101,838</td>\n",
       "      <td id=\"T_d7554_row6_col8\" class=\"data row6 col8\" >19%</td>\n",
       "    </tr>\n",
       "    <tr>\n",
       "      <th id=\"T_d7554_level0_row7\" class=\"row_heading level0 row7\" >Marital_Status</th>\n",
       "      <td id=\"T_d7554_row7_col0\" class=\"data row7 col0\" >550,068</td>\n",
       "      <td id=\"T_d7554_row7_col1\" class=\"data row7 col1\" >0.0%</td>\n",
       "      <td id=\"T_d7554_row7_col2\" class=\"data row7 col2\" >2</td>\n",
       "      <td id=\"T_d7554_row7_col3\" class=\"data row7 col3\" >0</td>\n",
       "      <td id=\"T_d7554_row7_col4\" class=\"data row7 col4\" >324,731</td>\n",
       "      <td id=\"T_d7554_row7_col5\" class=\"data row7 col5\" >59%</td>\n",
       "      <td id=\"T_d7554_row7_col6\" class=\"data row7 col6\" >1</td>\n",
       "      <td id=\"T_d7554_row7_col7\" class=\"data row7 col7\" >225,337</td>\n",
       "      <td id=\"T_d7554_row7_col8\" class=\"data row7 col8\" >41%</td>\n",
       "    </tr>\n",
       "    <tr>\n",
       "      <th id=\"T_d7554_level0_row8\" class=\"row_heading level0 row8\" >Product_Category_1</th>\n",
       "      <td id=\"T_d7554_row8_col0\" class=\"data row8 col0\" >550,068</td>\n",
       "      <td id=\"T_d7554_row8_col1\" class=\"data row8 col1\" >0.0%</td>\n",
       "      <td id=\"T_d7554_row8_col2\" class=\"data row8 col2\" >20</td>\n",
       "      <td id=\"T_d7554_row8_col3\" class=\"data row8 col3\" >5</td>\n",
       "      <td id=\"T_d7554_row8_col4\" class=\"data row8 col4\" >150,933</td>\n",
       "      <td id=\"T_d7554_row8_col5\" class=\"data row8 col5\" >27%</td>\n",
       "      <td id=\"T_d7554_row8_col6\" class=\"data row8 col6\" >1</td>\n",
       "      <td id=\"T_d7554_row8_col7\" class=\"data row8 col7\" >140,378</td>\n",
       "      <td id=\"T_d7554_row8_col8\" class=\"data row8 col8\" >26%</td>\n",
       "    </tr>\n",
       "    <tr>\n",
       "      <th id=\"T_d7554_level0_row9\" class=\"row_heading level0 row9\" >Product_Category_2</th>\n",
       "      <td id=\"T_d7554_row9_col0\" class=\"data row9 col0\" >376,430</td>\n",
       "      <td id=\"T_d7554_row9_col1\" class=\"data row9 col1\" >31.6%</td>\n",
       "      <td id=\"T_d7554_row9_col2\" class=\"data row9 col2\" >17</td>\n",
       "      <td id=\"T_d7554_row9_col3\" class=\"data row9 col3\" >8</td>\n",
       "      <td id=\"T_d7554_row9_col4\" class=\"data row9 col4\" >64,088</td>\n",
       "      <td id=\"T_d7554_row9_col5\" class=\"data row9 col5\" >12%</td>\n",
       "      <td id=\"T_d7554_row9_col6\" class=\"data row9 col6\" >14</td>\n",
       "      <td id=\"T_d7554_row9_col7\" class=\"data row9 col7\" >55,108</td>\n",
       "      <td id=\"T_d7554_row9_col8\" class=\"data row9 col8\" >10%</td>\n",
       "    </tr>\n",
       "    <tr>\n",
       "      <th id=\"T_d7554_level0_row10\" class=\"row_heading level0 row10\" >Product_Category_3</th>\n",
       "      <td id=\"T_d7554_row10_col0\" class=\"data row10 col0\" >166,821</td>\n",
       "      <td id=\"T_d7554_row10_col1\" class=\"data row10 col1\" >69.7%</td>\n",
       "      <td id=\"T_d7554_row10_col2\" class=\"data row10 col2\" >15</td>\n",
       "      <td id=\"T_d7554_row10_col3\" class=\"data row10 col3\" >16</td>\n",
       "      <td id=\"T_d7554_row10_col4\" class=\"data row10 col4\" >32,636</td>\n",
       "      <td id=\"T_d7554_row10_col5\" class=\"data row10 col5\" >6%</td>\n",
       "      <td id=\"T_d7554_row10_col6\" class=\"data row10 col6\" >15</td>\n",
       "      <td id=\"T_d7554_row10_col7\" class=\"data row10 col7\" >28,013</td>\n",
       "      <td id=\"T_d7554_row10_col8\" class=\"data row10 col8\" >5%</td>\n",
       "    </tr>\n",
       "    <tr>\n",
       "      <th id=\"T_d7554_level0_row11\" class=\"row_heading level0 row11\" >Purchase</th>\n",
       "      <td id=\"T_d7554_row11_col0\" class=\"data row11 col0\" >550,068</td>\n",
       "      <td id=\"T_d7554_row11_col1\" class=\"data row11 col1\" >0.0%</td>\n",
       "      <td id=\"T_d7554_row11_col2\" class=\"data row11 col2\" >18,105</td>\n",
       "      <td id=\"T_d7554_row11_col3\" class=\"data row11 col3\" >7011</td>\n",
       "      <td id=\"T_d7554_row11_col4\" class=\"data row11 col4\" >191</td>\n",
       "      <td id=\"T_d7554_row11_col5\" class=\"data row11 col5\" >0%</td>\n",
       "      <td id=\"T_d7554_row11_col6\" class=\"data row11 col6\" >7193</td>\n",
       "      <td id=\"T_d7554_row11_col7\" class=\"data row11 col7\" >188</td>\n",
       "      <td id=\"T_d7554_row11_col8\" class=\"data row11 col8\" >0%</td>\n",
       "    </tr>\n",
       "  </tbody>\n",
       "</table>\n"
      ],
      "text/plain": [
       "<pandas.io.formats.style.Styler at 0x7f90e2cc80a0>"
      ]
     },
     "execution_count": 7,
     "metadata": {},
     "output_type": "execute_result"
    }
   ],
   "source": [
    "#Data quality report\n",
    "\n",
    "df = train_df\n",
    "\n",
    "\n",
    "#Initial table\n",
    "freqDF = pd.DataFrame(columns=['Feature',\n",
    "                               'Mode',\n",
    "                               'Mode Freq.',\n",
    "                               'Mode %',\n",
    "                               '2nd Mode',\n",
    "                               '2nd Mode Freq.',\n",
    "                               '2nd Mode %'])\n",
    "for col in df.columns:\n",
    "    freq = df[col].value_counts()\n",
    "    freqdf = freq.to_frame()\n",
    "    fRow = freqdf.iloc[0]\n",
    "    secRow = freqdf.iloc[1]\n",
    "    fPrct = fRow[0] / len(df[col])\n",
    "    secPrct = secRow[0] / len(df[col])\n",
    "    try:\n",
    "        mode1 = int(fRow.name)\n",
    "    except:\n",
    "        mode1 = fRow.name\n",
    "    try:\n",
    "        mode2 = int(secRow.name)\n",
    "    except:\n",
    "        mode2 = secRow.name\n",
    "    freqDF = freqDF.append({'Feature':col,\n",
    "                            'Mode':mode1,\n",
    "                            'Mode Freq.':fRow[0],\n",
    "                            'Mode %':fPrct,\\\n",
    "                            '2nd Mode':mode2,\n",
    "                            '2nd Mode Freq.':secRow[0],\n",
    "                            '2nd Mode %':secPrct},\n",
    "                            ignore_index=True)\n",
    "\n",
    "freqDF = freqDF.set_index('Feature')\n",
    "\n",
    "#Nulls, Counts, Cardinality\n",
    "NUllFeatures = round(df.isnull().sum() / df.shape[0],4)\\\n",
    "      .sort_values(ascending=False)\n",
    "Count = df.count()\n",
    "uni = df.nunique()\n",
    "\n",
    "#Formating\n",
    "NUllFeatures.to_frame(name=\"% Miss.\")\n",
    "Count.to_frame(name=\"Count\")\n",
    "uni.to_frame()\n",
    "result = pd.concat([Count, NUllFeatures,uni], axis=1)\n",
    "result.columns =[\"Count\",\"% Miss.\",\"Card.\"]\n",
    "result = pd.concat([result, freqDF], axis=1)\n",
    "result.style.format({'% Miss.': \"{:.1%}\",\n",
    "                     'Mode %': \"{:.0%}\",\n",
    "                     '2nd Mode %': \"{:.0%}\",\n",
    "                     'Count': \"{:,}\",\n",
    "                     'Card.': \"{:,}\",\n",
    "                     'Mode Freq.': \"{:,}\",\n",
    "                    '2nd Mode Freq.': \"{:,}\"})"
   ]
  },
  {
   "cell_type": "markdown",
   "metadata": {},
   "source": [
    "<div class=\"alert alert-block alert-success\">\n",
    "The data quality report shows that each observations in the data represent a product being sold, We have 550,068 observation but only 5,891 users that purchased from population of 3,631 products.\n",
    "</div>"
   ]
  },
  {
   "cell_type": "markdown",
   "metadata": {
    "pycharm": {
     "name": "#%% md\n"
    }
   },
   "source": [
    "# Data Pre-processing\n",
    "Rubric: All preprocessing steps are clearly explained.\n",
    "## Data Splitting"
   ]
  },
  {
   "cell_type": "code",
   "execution_count": 6,
   "metadata": {
    "pycharm": {
     "name": "#%%\n"
    }
   },
   "outputs": [],
   "source": []
  },
  {
   "cell_type": "markdown",
   "metadata": {
    "pycharm": {
     "name": "#%% md\n"
    }
   },
   "source": [
    "# Data Modeling\n",
    "Rubric: Predictive modeling methods are well motivated, correctly implemented, and, to the extent appropriate, span the range of methods discussed in this course.\n",
    "## Model Performance & Hyperparameter Tuning\n",
    "Rubric: Cross-validation and/or held-out test sets are used in accordance with best practices to assess model performance. Performance metrics are carefully tailored to the project objectives."
   ]
  },
  {
   "cell_type": "code",
   "execution_count": null,
   "metadata": {
    "pycharm": {
     "name": "#%%\n"
    }
   },
   "outputs": [],
   "source": []
  },
  {
   "cell_type": "markdown",
   "metadata": {
    "pycharm": {
     "name": "#%% md\n"
    }
   },
   "source": [
    "# Final Model\n",
    "\n",
    "## Results\n",
    "Rubric: All project objectives are fully met, the findings are presented clearly, and the question(s) are technically addressed in the report and presentation."
   ]
  },
  {
   "cell_type": "code",
   "execution_count": null,
   "metadata": {
    "pycharm": {
     "name": "#%%\n"
    }
   },
   "outputs": [],
   "source": []
  },
  {
   "cell_type": "markdown",
   "metadata": {
    "pycharm": {
     "name": "#%% md\n"
    }
   },
   "source": []
  }
 ],
 "metadata": {
  "kernelspec": {
   "display_name": "Python 3 (ipykernel)",
   "language": "python",
   "name": "python3"
  },
  "language_info": {
   "codemirror_mode": {
    "name": "ipython",
    "version": 3
   },
   "file_extension": ".py",
   "mimetype": "text/x-python",
   "name": "python",
   "nbconvert_exporter": "python",
   "pygments_lexer": "ipython3",
   "version": "3.9.12"
  }
 },
 "nbformat": 4,
 "nbformat_minor": 1
}
